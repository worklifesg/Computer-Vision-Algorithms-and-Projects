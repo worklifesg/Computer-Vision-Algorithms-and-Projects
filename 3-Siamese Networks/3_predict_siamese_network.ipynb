{
  "nbformat": 4,
  "nbformat_minor": 0,
  "metadata": {
    "colab": {
      "name": "3-predict-siamese-network.ipynb",
      "provenance": [],
      "collapsed_sections": [],
      "machine_shape": "hm",
      "authorship_tag": "ABX9TyP3Sx3AmVksEM9dy1t3jSff",
      "include_colab_link": true
    },
    "kernelspec": {
      "name": "python3",
      "display_name": "Python 3"
    },
    "accelerator": "GPU"
  },
  "cells": [
    {
      "cell_type": "markdown",
      "metadata": {
        "id": "view-in-github",
        "colab_type": "text"
      },
      "source": [
        "<a href=\"https://colab.research.google.com/github/worklifesg/Computer-Vision-Algorithms-and-Projects/blob/main/3-Siamese%20Networks/3_predict_siamese_network.ipynb\" target=\"_parent\"><img src=\"https://colab.research.google.com/assets/colab-badge.svg\" alt=\"Open In Colab\"/></a>"
      ]
    },
    {
      "cell_type": "markdown",
      "metadata": {
        "id": "UBfTdoggA-hb"
      },
      "source": [
        "<h2 align='center'> Comparing Images using Siamese Networks </h2>\r\n",
        "\r\n",
        "#### 1. Import Libraries"
      ]
    },
    {
      "cell_type": "code",
      "metadata": {
        "id": "eZqnaAazA1K3"
      },
      "source": [
        "import config\r\n",
        "import utils\r\n",
        "\r\n",
        "from tensorflow.keras.models import load_model\r\n",
        "from imutils.paths import list_images\r\n",
        "\r\n",
        "import matplotlib.pyplot as plt\r\n",
        "import numpy as np\r\n",
        "\r\n",
        "import cv2"
      ],
      "execution_count": 1,
      "outputs": []
    },
    {
      "cell_type": "markdown",
      "metadata": {
        "id": "uGEylULXBRJu"
      },
      "source": [
        "#### 2. Loading Test Images and Model"
      ]
    },
    {
      "cell_type": "code",
      "metadata": {
        "colab": {
          "base_uri": "https://localhost:8080/"
        },
        "id": "tRlKC3t5BLeD",
        "outputId": "42b322a6-63f7-48cf-92e7-c03b69336408"
      },
      "source": [
        "print(\"[INFO] loading test dataset...\")\r\n",
        "testImagePaths = list(list_images('/content/test_images'))\r\n",
        "np.random.seed(42)\r\n",
        "pairs = np.random.choice(testImagePaths, size=(10, 2))"
      ],
      "execution_count": 2,
      "outputs": [
        {
          "output_type": "stream",
          "text": [
            "[INFO] loading test dataset...\n"
          ],
          "name": "stdout"
        }
      ]
    },
    {
      "cell_type": "code",
      "metadata": {
        "colab": {
          "base_uri": "https://localhost:8080/"
        },
        "id": "Td7XRx5xBbED",
        "outputId": "ce5d37c9-be5e-4bd9-9833-a3f604318434"
      },
      "source": [
        "print(\"[INFO] loading siamese model...\")\r\n",
        "model = load_model(config.model_path)"
      ],
      "execution_count": 3,
      "outputs": [
        {
          "output_type": "stream",
          "text": [
            "[INFO] loading siamese model...\n"
          ],
          "name": "stdout"
        }
      ]
    },
    {
      "cell_type": "markdown",
      "metadata": {
        "id": "Hq_JAsMED6kO"
      },
      "source": [
        "#### 3. Comparing images for similarity using siamese networks\r\n"
      ]
    },
    {
      "cell_type": "code",
      "metadata": {
        "colab": {
          "base_uri": "https://localhost:8080/",
          "height": 1000
        },
        "id": "UP_9xVCCBkD-",
        "outputId": "a4521320-4af4-4393-85dc-2dd3b4ccb5f6"
      },
      "source": [
        "# loop over all image pairs\r\n",
        "for (i, (pathA, pathB)) in enumerate(pairs):\r\n",
        "\t# load both the images and convert them to grayscale\r\n",
        "\timageA = cv2.imread(pathA, 0)\r\n",
        "\timageB = cv2.imread(pathB, 0)\r\n",
        "\t# create a copy of both the images for visualization purpose\r\n",
        "\torigA = imageA.copy()\r\n",
        "\torigB = imageB.copy()\r\n",
        "\t# add channel a dimension to both the images\r\n",
        "\timageA = np.expand_dims(imageA, axis=-1)\r\n",
        "\timageB = np.expand_dims(imageB, axis=-1)\r\n",
        "\t# add a batch dimension to both images\r\n",
        "\timageA = np.expand_dims(imageA, axis=0)\r\n",
        "\timageB = np.expand_dims(imageB, axis=0)\r\n",
        "\t# scale the pixel values to the range of [0, 1]\r\n",
        "\timageA = imageA / 255.0\r\n",
        "\timageB = imageB / 255.0\r\n",
        "\t# use our siamese model to make predictions on the image pair,\r\n",
        "\t# indicating whether or not the images belong to the same class\r\n",
        "\tpreds = model.predict([imageA, imageB])\r\n",
        "\tproba = preds[0][0]\r\n",
        "\r\n",
        "  # initialize the figure\r\n",
        "\tfig = plt.figure(\"Pair #{}\".format(i + 1), figsize=(4, 2))\r\n",
        "\tplt.suptitle(\"Similarity: {:.2f}\".format(proba))\r\n",
        "\t# show first image\r\n",
        "\tax = fig.add_subplot(1, 2, 1)\r\n",
        "\tplt.imshow(origA, cmap=plt.cm.gray)\r\n",
        "\tplt.axis(\"off\")\r\n",
        "\t# show the second image\r\n",
        "\tax = fig.add_subplot(1, 2, 2)\r\n",
        "\tplt.imshow(origB, cmap=plt.cm.gray)\r\n",
        "\tplt.axis(\"off\")\r\n",
        "\t# show the plot\r\n",
        "\tplt.show()\r\n",
        "\r\n",
        "plt.savefig('prediction.png')"
      ],
      "execution_count": 6,
      "outputs": [
        {
          "output_type": "display_data",
          "data": {
            "image/png": "[encoded data removed]",
            "text/plain": [
              "<Figure size 288x144 with 2 Axes>"
            ]
          },
          "metadata": {
            "tags": [],
            "needs_background": "light"
          }
        },
        {
          "output_type": "display_data",
          "data": {
            "image/png": "[encoded data removed]",
            "text/plain": [
              "<Figure size 288x144 with 2 Axes>"
            ]
          },
          "metadata": {
            "tags": [],
            "needs_background": "light"
          }
        },
        {
          "output_type": "display_data",
          "data": {
            "image/png": "[encoded data removed]",
            "text/plain": [
              "<Figure size 288x144 with 2 Axes>"
            ]
          },
          "metadata": {
            "tags": [],
            "needs_background": "light"
          }
        },
        {
          "output_type": "display_data",
          "data": {
            "image/png": "[encoded data removed]",
            "text/plain": [
              "<Figure size 288x144 with 2 Axes>"
            ]
          },
          "metadata": {
            "tags": [],
            "needs_background": "light"
          }
        },
        {
          "output_type": "display_data",
          "data": {
            "image/png": "[encoded data removed]",
            "text/plain": [
              "<Figure size 288x144 with 2 Axes>"
            ]
          },
          "metadata": {
            "tags": [],
            "needs_background": "light"
          }
        },
        {
          "output_type": "display_data",
          "data": {
            "image/png": "[encoded data removed]",
            "text/plain": [
              "<Figure size 288x144 with 2 Axes>"
            ]
          },
          "metadata": {
            "tags": [],
            "needs_background": "light"
          }
        },
        {
          "output_type": "display_data",
          "data": {
            "image/png": "[encoded data removed]",
            "text/plain": [
              "<Figure size 288x144 with 2 Axes>"
            ]
          },
          "metadata": {
            "tags": [],
            "needs_background": "light"
          }
        },
        {
          "output_type": "display_data",
          "data": {
            "image/png": "[encoded data removed]",
            "text/plain": [
              "<Figure size 288x144 with 2 Axes>"
            ]
          },
          "metadata": {
            "tags": [],
            "needs_background": "light"
          }
        },
        {
          "output_type": "display_data",
          "data": {
            "image/png": "[encoded data removed]",
            "text/plain": [
              "<Figure size 288x144 with 2 Axes>"
            ]
          },
          "metadata": {
            "tags": [],
            "needs_background": "light"
          }
        },
        {
          "output_type": "display_data",
          "data": {
            "image/png": "[encoded data removed]",
            "text/plain": [
              "<Figure size 288x144 with 2 Axes>"
            ]
          },
          "metadata": {
            "tags": [],
            "needs_background": "light"
          }
        },
        {
          "output_type": "display_data",
          "data": {
            "text/plain": [
              "<Figure size 432x288 with 0 Axes>"
            ]
          },
          "metadata": {
            "tags": []
          }
        }
      ]
    }
  ]
}