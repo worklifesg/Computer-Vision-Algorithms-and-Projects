{
  "nbformat": 4,
  "nbformat_minor": 0,
  "metadata": {
    "colab": {
      "name": "2-siamese-networks-training.ipynb",
      "provenance": [],
      "collapsed_sections": [],
      "machine_shape": "hm",
      "authorship_tag": "ABX9TyOebaPZ0Fy6nvIWe7UfgDFZ",
      "include_colab_link": true
    },
    "kernelspec": {
      "name": "python3",
      "display_name": "Python 3"
    },
    "accelerator": "TPU"
  },
  "cells": [
    {
      "cell_type": "markdown",
      "metadata": {
        "id": "view-in-github",
        "colab_type": "text"
      },
      "source": [
        "<a href=\"https://colab.research.google.com/github/worklifesg/Computer-Vision-Algorithms-and-Projects/blob/main/3-Siamese%20Networks/2_siamese_networks_training.ipynb\" target=\"_parent\"><img src=\"https://colab.research.google.com/assets/colab-badge.svg\" alt=\"Open In Colab\"/></a>"
      ]
    },
    {
      "cell_type": "markdown",
      "metadata": {
        "id": "TidBtpQeHK6O"
      },
      "source": [
        "<h2 align='center'> Training Siamese Networks </h2>\r\n",
        "\r\n",
        "We need three python scripts to train siamese networks\r\n",
        "  - **config.py** - . Paths, I/P image spatial dimensions, batch size, number of epochs\r\n",
        "  - **siamese_network.py** - CNN model using Keras, and TensorFlow\r\n",
        "  - **utils.py** - functions related to building image pairs, computing euclidean distance, and plotting training measure history results\r\n",
        "  \r\n",
        "  - This is the main training notebook that constitutes above 3 python scripts\r\n",
        "    * Load and read MNIST digit dataset (config.py)\r\n",
        "    * Build positive and negative pairs (utils.py)\r\n",
        "    * Build siamese network architecture (siamese_network.py)\r\n",
        "    * Train the siamese network\r\n",
        "    * Training History (Loss and Accuracy) - (utils.py)\r\n",
        "\r\n",
        "#### 1. Import Libraries"
      ]
    },
    {
      "cell_type": "code",
      "metadata": {
        "id": "8Ybp3jKTG3pI"
      },
      "source": [
        "from siamese_network import build_siamese_network\r\n",
        "import config\r\n",
        "import utils\r\n",
        "\r\n",
        "from tensorflow.keras.models import Model\r\n",
        "from tensorflow.keras.layers import Dense, Input, Lambda\r\n",
        "from tensorflow.keras.datasets import mnist\r\n",
        "\r\n",
        "import numpy as np"
      ],
      "execution_count": 1,
      "outputs": []
    },
    {
      "cell_type": "markdown",
      "metadata": {
        "id": "1VpaXvt8JGYa"
      },
      "source": [
        "#### 2. Load and Read MNIST digit dataset"
      ]
    },
    {
      "cell_type": "code",
      "metadata": {
        "colab": {
          "base_uri": "https://localhost:8080/"
        },
        "id": "ithKrbtgIRzF",
        "outputId": "6df50e70-09f5-426d-8ba7-e01f63d1973d"
      },
      "source": [
        "from google.colab.patches import cv2_imshow\r\n",
        "\r\n",
        "#loading MNIST dataset\r\n",
        "(trainX,trainY), (testX,testY) = mnist.load_data()\r\n",
        "\r\n",
        "#scaling the images [0,1]\r\n",
        "trainX = trainX/255.0\r\n",
        "testX = testX/255.0\r\n",
        "\r\n",
        "# adding a channel dimension to images\r\n",
        "trainX = np.expand_dims(trainX,axis=-1)\r\n",
        "testX = np.expand_dims(testX,axis=-1)"
      ],
      "execution_count": 2,
      "outputs": [
        {
          "output_type": "stream",
          "text": [
            "Downloading data from https://storage.googleapis.com/tensorflow/tf-keras-datasets/mnist.npz\n",
            "11493376/11490434 [==============================] - 0s 0us/step\n"
          ],
          "name": "stdout"
        }
      ]
    },
    {
      "cell_type": "markdown",
      "metadata": {
        "id": "XZX_uXATJ2TR"
      },
      "source": [
        "#### 3. Building positive and negative pairs"
      ]
    },
    {
      "cell_type": "code",
      "metadata": {
        "id": "5LJHXlWvJ1DR"
      },
      "source": [
        "#loading positive and negative pairs\r\n",
        "(pairTrain, labelTrain) = utils.make_pairs(trainX,trainY)\r\n",
        "(pairTest,labelTest) = utils.make_pairs(testX,testY)"
      ],
      "execution_count": 3,
      "outputs": []
    },
    {
      "cell_type": "markdown",
      "metadata": {
        "id": "T_oUSknbKxDF"
      },
      "source": [
        "#### 4. Siamese Network Archiecture Build"
      ]
    },
    {
      "cell_type": "code",
      "metadata": {
        "id": "QEsfezh6J6pa"
      },
      "source": [
        "# configure the network\r\n",
        "\r\n",
        "imageA = Input(shape=config.image_shape)\r\n",
        "imageB = Input(shape=config.image_shape)\r\n",
        "\r\n",
        "feature_ext = build_siamese_network(config.image_shape)\r\n",
        "\r\n",
        "featsA = feature_ext(imageA)\r\n",
        "featsB = feature_ext(imageB)\r\n",
        "\r\n",
        "# contruct the network\r\n",
        "\r\n",
        "distance = Lambda(utils.euclidean_distance)([featsA,featsB])\r\n",
        "outputs = Dense(1,activation='sigmoid')(distance)\r\n",
        "model = Model(inputs=[imageA,imageB],outputs=outputs)"
      ],
      "execution_count": 4,
      "outputs": []
    },
    {
      "cell_type": "markdown",
      "metadata": {
        "id": "TjcqcnAcNadA"
      },
      "source": [
        "#### 5. Compile and Train Model\r\n"
      ]
    },
    {
      "cell_type": "code",
      "metadata": {
        "colab": {
          "base_uri": "https://localhost:8080/"
        },
        "id": "IzqOMqHsL7TQ",
        "outputId": "9b6554d5-77c2-4efd-f01d-e514d0cbf1b0"
      },
      "source": [
        "model.compile(loss='binary_crossentropy',optimizer='adam',metrics=['accuracy'])\r\n",
        "\r\n",
        "history = model.fit([pairTrain[:,0],pairTrain[:,1]],\r\n",
        "                    labelTrain[:],\r\n",
        "                    validation_data=([pairTest[:,0],pairTest[:,1]],labelTest[:]),\r\n",
        "                    batch_size = config.batch_size,\r\n",
        "                    epochs=config.epochs)"
      ],
      "execution_count": 5,
      "outputs": [
        {
          "output_type": "stream",
          "text": [
            "Epoch 1/100\n",
            "1875/1875 [==============================] - 44s 23ms/step - loss: 0.6449 - accuracy: 0.5980 - val_loss: 0.5435 - val_accuracy: 0.7501\n",
            "Epoch 2/100\n",
            "1875/1875 [==============================] - 40s 22ms/step - loss: 0.5524 - accuracy: 0.7277 - val_loss: 0.4800 - val_accuracy: 0.7861\n",
            "Epoch 3/100\n",
            "1875/1875 [==============================] - 42s 23ms/step - loss: 0.5040 - accuracy: 0.7566 - val_loss: 0.4424 - val_accuracy: 0.8006\n",
            "Epoch 4/100\n",
            "1875/1875 [==============================] - 41s 22ms/step - loss: 0.4791 - accuracy: 0.7711 - val_loss: 0.4187 - val_accuracy: 0.8123\n",
            "Epoch 5/100\n",
            "1875/1875 [==============================] - 42s 23ms/step - loss: 0.4621 - accuracy: 0.7815 - val_loss: 0.4003 - val_accuracy: 0.8213\n",
            "Epoch 6/100\n",
            "1875/1875 [==============================] - 41s 22ms/step - loss: 0.4488 - accuracy: 0.7898 - val_loss: 0.3795 - val_accuracy: 0.8317\n",
            "Epoch 7/100\n",
            "1875/1875 [==============================] - 41s 22ms/step - loss: 0.4334 - accuracy: 0.8025 - val_loss: 0.3744 - val_accuracy: 0.8360\n",
            "Epoch 8/100\n",
            "1875/1875 [==============================] - 43s 23ms/step - loss: 0.4224 - accuracy: 0.8076 - val_loss: 0.3516 - val_accuracy: 0.8500\n",
            "Epoch 9/100\n",
            "1875/1875 [==============================] - 43s 23ms/step - loss: 0.4124 - accuracy: 0.8130 - val_loss: 0.3468 - val_accuracy: 0.8497\n",
            "Epoch 10/100\n",
            "1875/1875 [==============================] - 37s 20ms/step - loss: 0.4063 - accuracy: 0.8160 - val_loss: 0.3394 - val_accuracy: 0.8533\n",
            "Epoch 11/100\n",
            "1875/1875 [==============================] - 38s 20ms/step - loss: 0.4002 - accuracy: 0.8205 - val_loss: 0.3473 - val_accuracy: 0.8475\n",
            "Epoch 12/100\n",
            "1875/1875 [==============================] - 37s 20ms/step - loss: 0.3964 - accuracy: 0.8232 - val_loss: 0.3302 - val_accuracy: 0.8583\n",
            "Epoch 13/100\n",
            "1875/1875 [==============================] - 38s 20ms/step - loss: 0.3937 - accuracy: 0.8232 - val_loss: 0.3437 - val_accuracy: 0.8496\n",
            "Epoch 14/100\n",
            "1875/1875 [==============================] - 37s 20ms/step - loss: 0.3878 - accuracy: 0.8271 - val_loss: 0.3225 - val_accuracy: 0.8608\n",
            "Epoch 15/100\n",
            "1875/1875 [==============================] - 38s 20ms/step - loss: 0.3867 - accuracy: 0.8276 - val_loss: 0.3277 - val_accuracy: 0.8590\n",
            "Epoch 16/100\n",
            "1875/1875 [==============================] - 39s 21ms/step - loss: 0.3827 - accuracy: 0.8314 - val_loss: 0.3277 - val_accuracy: 0.8587\n",
            "Epoch 17/100\n",
            "1875/1875 [==============================] - 37s 20ms/step - loss: 0.3783 - accuracy: 0.8324 - val_loss: 0.3261 - val_accuracy: 0.8575\n",
            "Epoch 18/100\n",
            "1875/1875 [==============================] - 38s 20ms/step - loss: 0.3744 - accuracy: 0.8358 - val_loss: 0.3211 - val_accuracy: 0.8615\n",
            "Epoch 19/100\n",
            "1875/1875 [==============================] - 37s 20ms/step - loss: 0.3697 - accuracy: 0.8376 - val_loss: 0.3246 - val_accuracy: 0.8587\n",
            "Epoch 20/100\n",
            "1875/1875 [==============================] - 38s 21ms/step - loss: 0.3714 - accuracy: 0.8348 - val_loss: 0.3169 - val_accuracy: 0.8624\n",
            "Epoch 21/100\n",
            "1875/1875 [==============================] - 40s 21ms/step - loss: 0.3685 - accuracy: 0.8382 - val_loss: 0.3061 - val_accuracy: 0.8698\n",
            "Epoch 22/100\n",
            "1875/1875 [==============================] - 39s 21ms/step - loss: 0.3663 - accuracy: 0.8393 - val_loss: 0.2916 - val_accuracy: 0.8758\n",
            "Epoch 23/100\n",
            "1875/1875 [==============================] - 39s 21ms/step - loss: 0.3654 - accuracy: 0.8391 - val_loss: 0.3029 - val_accuracy: 0.8705\n",
            "Epoch 24/100\n",
            "1875/1875 [==============================] - 41s 22ms/step - loss: 0.3638 - accuracy: 0.8414 - val_loss: 0.2964 - val_accuracy: 0.8735\n",
            "Epoch 25/100\n",
            "1875/1875 [==============================] - 39s 21ms/step - loss: 0.3596 - accuracy: 0.8436 - val_loss: 0.3082 - val_accuracy: 0.8649\n",
            "Epoch 26/100\n",
            "1875/1875 [==============================] - 39s 21ms/step - loss: 0.3591 - accuracy: 0.8422 - val_loss: 0.2920 - val_accuracy: 0.8748\n",
            "Epoch 27/100\n",
            "1875/1875 [==============================] - 39s 21ms/step - loss: 0.3585 - accuracy: 0.8430 - val_loss: 0.3128 - val_accuracy: 0.8646\n",
            "Epoch 28/100\n",
            "1875/1875 [==============================] - 38s 20ms/step - loss: 0.3565 - accuracy: 0.8443 - val_loss: 0.2919 - val_accuracy: 0.8753\n",
            "Epoch 29/100\n",
            "1875/1875 [==============================] - 38s 20ms/step - loss: 0.3538 - accuracy: 0.8466 - val_loss: 0.3026 - val_accuracy: 0.8698\n",
            "Epoch 30/100\n",
            "1875/1875 [==============================] - 38s 20ms/step - loss: 0.3549 - accuracy: 0.8446 - val_loss: 0.3075 - val_accuracy: 0.8663\n",
            "Epoch 31/100\n",
            "1875/1875 [==============================] - 39s 21ms/step - loss: 0.3519 - accuracy: 0.8452 - val_loss: 0.2992 - val_accuracy: 0.8710\n",
            "Epoch 32/100\n",
            "1875/1875 [==============================] - 43s 23ms/step - loss: 0.3516 - accuracy: 0.8454 - val_loss: 0.3032 - val_accuracy: 0.8684\n",
            "Epoch 33/100\n",
            "1875/1875 [==============================] - 42s 22ms/step - loss: 0.3487 - accuracy: 0.8487 - val_loss: 0.3024 - val_accuracy: 0.8698\n",
            "Epoch 34/100\n",
            "1875/1875 [==============================] - 40s 21ms/step - loss: 0.3492 - accuracy: 0.8476 - val_loss: 0.2986 - val_accuracy: 0.8706\n",
            "Epoch 35/100\n",
            "1875/1875 [==============================] - 41s 22ms/step - loss: 0.3449 - accuracy: 0.8503 - val_loss: 0.3069 - val_accuracy: 0.8652\n",
            "Epoch 36/100\n",
            "1875/1875 [==============================] - 39s 21ms/step - loss: 0.3455 - accuracy: 0.8506 - val_loss: 0.2842 - val_accuracy: 0.8789\n",
            "Epoch 37/100\n",
            "1875/1875 [==============================] - 39s 21ms/step - loss: 0.3483 - accuracy: 0.8506 - val_loss: 0.2841 - val_accuracy: 0.8785\n",
            "Epoch 38/100\n",
            "1875/1875 [==============================] - 40s 21ms/step - loss: 0.3453 - accuracy: 0.8508 - val_loss: 0.2918 - val_accuracy: 0.8751\n",
            "Epoch 39/100\n",
            "1875/1875 [==============================] - 39s 21ms/step - loss: 0.3454 - accuracy: 0.8511 - val_loss: 0.2915 - val_accuracy: 0.8734\n",
            "Epoch 40/100\n",
            "1875/1875 [==============================] - 41s 22ms/step - loss: 0.3436 - accuracy: 0.8514 - val_loss: 0.3028 - val_accuracy: 0.8669\n",
            "Epoch 41/100\n",
            "1875/1875 [==============================] - 39s 21ms/step - loss: 0.3430 - accuracy: 0.8509 - val_loss: 0.2822 - val_accuracy: 0.8794\n",
            "Epoch 42/100\n",
            "1875/1875 [==============================] - 37s 20ms/step - loss: 0.3462 - accuracy: 0.8494 - val_loss: 0.2921 - val_accuracy: 0.8719\n",
            "Epoch 43/100\n",
            "1875/1875 [==============================] - 38s 20ms/step - loss: 0.3397 - accuracy: 0.8541 - val_loss: 0.2991 - val_accuracy: 0.8693\n",
            "Epoch 44/100\n",
            "1875/1875 [==============================] - 38s 20ms/step - loss: 0.3438 - accuracy: 0.8515 - val_loss: 0.2979 - val_accuracy: 0.8700\n",
            "Epoch 45/100\n",
            "1875/1875 [==============================] - 37s 20ms/step - loss: 0.3381 - accuracy: 0.8536 - val_loss: 0.2831 - val_accuracy: 0.8782\n",
            "Epoch 46/100\n",
            "1875/1875 [==============================] - 37s 20ms/step - loss: 0.3439 - accuracy: 0.8498 - val_loss: 0.3052 - val_accuracy: 0.8648\n",
            "Epoch 47/100\n",
            "1875/1875 [==============================] - 38s 20ms/step - loss: 0.3407 - accuracy: 0.8533 - val_loss: 0.2765 - val_accuracy: 0.8831\n",
            "Epoch 48/100\n",
            "1875/1875 [==============================] - 41s 22ms/step - loss: 0.3411 - accuracy: 0.8528 - val_loss: 0.2810 - val_accuracy: 0.8805\n",
            "Epoch 49/100\n",
            "1875/1875 [==============================] - 41s 22ms/step - loss: 0.3362 - accuracy: 0.8551 - val_loss: 0.2849 - val_accuracy: 0.8760\n",
            "Epoch 50/100\n",
            "1875/1875 [==============================] - 38s 20ms/step - loss: 0.3393 - accuracy: 0.8530 - val_loss: 0.2829 - val_accuracy: 0.8785\n",
            "Epoch 51/100\n",
            "1875/1875 [==============================] - 38s 20ms/step - loss: 0.3378 - accuracy: 0.8540 - val_loss: 0.2969 - val_accuracy: 0.8699\n",
            "Epoch 52/100\n",
            "1875/1875 [==============================] - 38s 21ms/step - loss: 0.3373 - accuracy: 0.8549 - val_loss: 0.2899 - val_accuracy: 0.8738\n",
            "Epoch 53/100\n",
            "1875/1875 [==============================] - 38s 20ms/step - loss: 0.3377 - accuracy: 0.8531 - val_loss: 0.3062 - val_accuracy: 0.8630\n",
            "Epoch 54/100\n",
            "1875/1875 [==============================] - 38s 20ms/step - loss: 0.3389 - accuracy: 0.8534 - val_loss: 0.2936 - val_accuracy: 0.8708\n",
            "Epoch 55/100\n",
            "1875/1875 [==============================] - 37s 20ms/step - loss: 0.3404 - accuracy: 0.8518 - val_loss: 0.2928 - val_accuracy: 0.8713\n",
            "Epoch 56/100\n",
            "1875/1875 [==============================] - 39s 21ms/step - loss: 0.3369 - accuracy: 0.8545 - val_loss: 0.2865 - val_accuracy: 0.8768\n",
            "Epoch 57/100\n",
            "1875/1875 [==============================] - 37s 20ms/step - loss: 0.3416 - accuracy: 0.8506 - val_loss: 0.2803 - val_accuracy: 0.8796\n",
            "Epoch 58/100\n",
            "1875/1875 [==============================] - 38s 20ms/step - loss: 0.3352 - accuracy: 0.8561 - val_loss: 0.2758 - val_accuracy: 0.8843\n",
            "Epoch 59/100\n",
            "1875/1875 [==============================] - 37s 20ms/step - loss: 0.3378 - accuracy: 0.8540 - val_loss: 0.2791 - val_accuracy: 0.8806\n",
            "Epoch 60/100\n",
            "1875/1875 [==============================] - 38s 20ms/step - loss: 0.3368 - accuracy: 0.8541 - val_loss: 0.2884 - val_accuracy: 0.8746\n",
            "Epoch 61/100\n",
            "1875/1875 [==============================] - 38s 20ms/step - loss: 0.3387 - accuracy: 0.8534 - val_loss: 0.2955 - val_accuracy: 0.8692\n",
            "Epoch 62/100\n",
            "1875/1875 [==============================] - 38s 20ms/step - loss: 0.3348 - accuracy: 0.8544 - val_loss: 0.2896 - val_accuracy: 0.8735\n",
            "Epoch 63/100\n",
            "1875/1875 [==============================] - 37s 20ms/step - loss: 0.3357 - accuracy: 0.8561 - val_loss: 0.2889 - val_accuracy: 0.8731\n",
            "Epoch 64/100\n",
            "1875/1875 [==============================] - 39s 21ms/step - loss: 0.3334 - accuracy: 0.8565 - val_loss: 0.2951 - val_accuracy: 0.8716\n",
            "Epoch 65/100\n",
            "1875/1875 [==============================] - 37s 20ms/step - loss: 0.3380 - accuracy: 0.8551 - val_loss: 0.2976 - val_accuracy: 0.8689\n",
            "Epoch 66/100\n",
            "1875/1875 [==============================] - 37s 20ms/step - loss: 0.3331 - accuracy: 0.8571 - val_loss: 0.2946 - val_accuracy: 0.8712\n",
            "Epoch 67/100\n",
            "1875/1875 [==============================] - 37s 20ms/step - loss: 0.3315 - accuracy: 0.8551 - val_loss: 0.2751 - val_accuracy: 0.8803\n",
            "Epoch 68/100\n",
            "1875/1875 [==============================] - 37s 20ms/step - loss: 0.3352 - accuracy: 0.8558 - val_loss: 0.2951 - val_accuracy: 0.8717\n",
            "Epoch 69/100\n",
            "1875/1875 [==============================] - 38s 20ms/step - loss: 0.3336 - accuracy: 0.8569 - val_loss: 0.3047 - val_accuracy: 0.8646\n",
            "Epoch 70/100\n",
            "1875/1875 [==============================] - 37s 20ms/step - loss: 0.3352 - accuracy: 0.8567 - val_loss: 0.2841 - val_accuracy: 0.8762\n",
            "Epoch 71/100\n",
            "1875/1875 [==============================] - 37s 20ms/step - loss: 0.3358 - accuracy: 0.8544 - val_loss: 0.2803 - val_accuracy: 0.8784\n",
            "Epoch 72/100\n",
            "1875/1875 [==============================] - 39s 21ms/step - loss: 0.3315 - accuracy: 0.8560 - val_loss: 0.3066 - val_accuracy: 0.8647\n",
            "Epoch 73/100\n",
            "1875/1875 [==============================] - 37s 20ms/step - loss: 0.3310 - accuracy: 0.8588 - val_loss: 0.2835 - val_accuracy: 0.8759\n",
            "Epoch 74/100\n",
            "1875/1875 [==============================] - 37s 20ms/step - loss: 0.3328 - accuracy: 0.8575 - val_loss: 0.2947 - val_accuracy: 0.8684\n",
            "Epoch 75/100\n",
            "1875/1875 [==============================] - 37s 20ms/step - loss: 0.3302 - accuracy: 0.8583 - val_loss: 0.2892 - val_accuracy: 0.8744\n",
            "Epoch 76/100\n",
            "1875/1875 [==============================] - 38s 20ms/step - loss: 0.3321 - accuracy: 0.8563 - val_loss: 0.3007 - val_accuracy: 0.8676\n",
            "Epoch 77/100\n",
            "1875/1875 [==============================] - 39s 21ms/step - loss: 0.3319 - accuracy: 0.8558 - val_loss: 0.2798 - val_accuracy: 0.8795\n",
            "Epoch 78/100\n",
            "1875/1875 [==============================] - 39s 21ms/step - loss: 0.3325 - accuracy: 0.8558 - val_loss: 0.2841 - val_accuracy: 0.8766\n",
            "Epoch 79/100\n",
            "1875/1875 [==============================] - 38s 20ms/step - loss: 0.3349 - accuracy: 0.8562 - val_loss: 0.3119 - val_accuracy: 0.8605\n",
            "Epoch 80/100\n",
            "1875/1875 [==============================] - 41s 22ms/step - loss: 0.3302 - accuracy: 0.8571 - val_loss: 0.2922 - val_accuracy: 0.8730\n",
            "Epoch 81/100\n",
            "1875/1875 [==============================] - 40s 21ms/step - loss: 0.3317 - accuracy: 0.8565 - val_loss: 0.2920 - val_accuracy: 0.8709\n",
            "Epoch 82/100\n",
            "1875/1875 [==============================] - 41s 22ms/step - loss: 0.3315 - accuracy: 0.8573 - val_loss: 0.2926 - val_accuracy: 0.8697\n",
            "Epoch 83/100\n",
            "1875/1875 [==============================] - 43s 23ms/step - loss: 0.3336 - accuracy: 0.8561 - val_loss: 0.2839 - val_accuracy: 0.8755\n",
            "Epoch 84/100\n",
            "1875/1875 [==============================] - 45s 24ms/step - loss: 0.3318 - accuracy: 0.8574 - val_loss: 0.2733 - val_accuracy: 0.8831\n",
            "Epoch 85/100\n",
            "1875/1875 [==============================] - 44s 24ms/step - loss: 0.3311 - accuracy: 0.8561 - val_loss: 0.2895 - val_accuracy: 0.8727\n",
            "Epoch 86/100\n",
            "1875/1875 [==============================] - 42s 22ms/step - loss: 0.3334 - accuracy: 0.8564 - val_loss: 0.3105 - val_accuracy: 0.8615\n",
            "Epoch 87/100\n",
            "1875/1875 [==============================] - 42s 22ms/step - loss: 0.3311 - accuracy: 0.8582 - val_loss: 0.2785 - val_accuracy: 0.8791\n",
            "Epoch 88/100\n",
            "1875/1875 [==============================] - 42s 22ms/step - loss: 0.3280 - accuracy: 0.8578 - val_loss: 0.2964 - val_accuracy: 0.8702\n",
            "Epoch 89/100\n",
            "1875/1875 [==============================] - 42s 23ms/step - loss: 0.3298 - accuracy: 0.8577 - val_loss: 0.2892 - val_accuracy: 0.8737\n",
            "Epoch 90/100\n",
            "1875/1875 [==============================] - 41s 22ms/step - loss: 0.3294 - accuracy: 0.8581 - val_loss: 0.2859 - val_accuracy: 0.8753\n",
            "Epoch 91/100\n",
            "1875/1875 [==============================] - 41s 22ms/step - loss: 0.3303 - accuracy: 0.8566 - val_loss: 0.2945 - val_accuracy: 0.8699\n",
            "Epoch 92/100\n",
            "1875/1875 [==============================] - 42s 23ms/step - loss: 0.3333 - accuracy: 0.8558 - val_loss: 0.3011 - val_accuracy: 0.8649\n",
            "Epoch 93/100\n",
            "1875/1875 [==============================] - 43s 23ms/step - loss: 0.3315 - accuracy: 0.8584 - val_loss: 0.2988 - val_accuracy: 0.8673\n",
            "Epoch 94/100\n",
            "1875/1875 [==============================] - 41s 22ms/step - loss: 0.3299 - accuracy: 0.8570 - val_loss: 0.2789 - val_accuracy: 0.8785\n",
            "Epoch 95/100\n",
            "1875/1875 [==============================] - 43s 23ms/step - loss: 0.3257 - accuracy: 0.8602 - val_loss: 0.2889 - val_accuracy: 0.8732\n",
            "Epoch 96/100\n",
            "1875/1875 [==============================] - 43s 23ms/step - loss: 0.3304 - accuracy: 0.8587 - val_loss: 0.3134 - val_accuracy: 0.8590\n",
            "Epoch 97/100\n",
            "1875/1875 [==============================] - 40s 21ms/step - loss: 0.3279 - accuracy: 0.8585 - val_loss: 0.3016 - val_accuracy: 0.8669\n",
            "Epoch 98/100\n",
            "1875/1875 [==============================] - 40s 21ms/step - loss: 0.3284 - accuracy: 0.8588 - val_loss: 0.2763 - val_accuracy: 0.8802\n",
            "Epoch 99/100\n",
            "1875/1875 [==============================] - 41s 22ms/step - loss: 0.3293 - accuracy: 0.8583 - val_loss: 0.2930 - val_accuracy: 0.8706\n",
            "Epoch 100/100\n",
            "1875/1875 [==============================] - 41s 22ms/step - loss: 0.3280 - accuracy: 0.8594 - val_loss: 0.2928 - val_accuracy: 0.8722\n"
          ],
          "name": "stdout"
        }
      ]
    },
    {
      "cell_type": "markdown",
      "metadata": {
        "id": "WScJfyeZ3t4X"
      },
      "source": [
        "#### 6. Model save and plot history"
      ]
    },
    {
      "cell_type": "code",
      "metadata": {
        "colab": {
          "base_uri": "https://localhost:8080/"
        },
        "id": "3ymG0Kue3wgY",
        "outputId": "c9e38e46-0e31-4ed9-e00c-2a3e49d2e99b"
      },
      "source": [
        "model.save(config.model_path)"
      ],
      "execution_count": 6,
      "outputs": [
        {
          "output_type": "stream",
          "text": [
            "INFO:tensorflow:Assets written to: output/siamese_model/assets\n"
          ],
          "name": "stdout"
        }
      ]
    },
    {
      "cell_type": "code",
      "metadata": {
        "colab": {
          "base_uri": "https://localhost:8080/",
          "height": 299
        },
        "id": "EP2VCPFM37bI",
        "outputId": "b6a691a3-a041-4cf2-adfb-c1cf43a7a897"
      },
      "source": [
        "utils.plot_training(history,config.plot_path)"
      ],
      "execution_count": 7,
      "outputs": [
        {
          "output_type": "display_data",
          "data": {
            "image/png": "[encoded data removed]",
            "text/plain": [
              "<Figure size 432x288 with 1 Axes>"
            ]
          },
          "metadata": {
            "tags": []
          }
        }
      ]
    },
    {
      "cell_type": "markdown",
      "metadata": {
        "id": "xYunU1xi4uyj"
      },
      "source": [
        "The model obtained around 88% of accuracy on testing dataset"
      ]
    },
    {
      "cell_type": "code",
      "metadata": {
        "colab": {
          "base_uri": "https://localhost:8080/"
        },
        "id": "4P71izGK44BO",
        "outputId": "5712f05e-26b5-4c76-b4c7-f7fcbd724534"
      },
      "source": [
        "!zip -r /content/output.zip /content/output"
      ],
      "execution_count": 10,
      "outputs": [
        {
          "output_type": "stream",
          "text": [
            "  adding: content/output/ (stored 0%)\n",
            "  adding: content/output/siamese_model/ (stored 0%)\n",
            "  adding: content/output/siamese_model/variables/ (stored 0%)\n",
            "  adding: content/output/siamese_model/variables/variables.index (deflated 65%)\n",
            "  adding: content/output/siamese_model/variables/variables.data-00000-of-00001 (deflated 14%)\n",
            "  adding: content/output/siamese_model/saved_model.pb (deflated 89%)\n",
            "  adding: content/output/siamese_model/assets/ (stored 0%)\n",
            "  adding: content/output/plot.png (deflated 5%)\n"
          ],
          "name": "stdout"
        }
      ]
    }
  ]
}