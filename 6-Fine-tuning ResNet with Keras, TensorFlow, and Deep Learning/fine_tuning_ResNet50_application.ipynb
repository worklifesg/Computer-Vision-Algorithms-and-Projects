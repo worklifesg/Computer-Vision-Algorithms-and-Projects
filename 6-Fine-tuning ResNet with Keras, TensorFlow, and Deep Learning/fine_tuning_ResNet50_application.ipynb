{
  "nbformat": 4,
  "nbformat_minor": 0,
  "metadata": {
    "colab": {
      "name": "fine-tuning-ResNet50-application.ipynb",
      "provenance": [],
      "machine_shape": "hm",
      "mount_file_id": "1kZ5NyyNi2cYLI4GAP_suCN6xt-ifool-",
      "authorship_tag": "ABX9TyMNKV8bg6HeoxsV7fjNC1bc",
      "include_colab_link": true
    },
    "kernelspec": {
      "name": "python3",
      "display_name": "Python 3"
    },
    "accelerator": "GPU"
  },
  "cells": [
    {
      "cell_type": "markdown",
      "metadata": {
        "id": "view-in-github",
        "colab_type": "text"
      },
      "source": [
        "<a href=\"https://colab.research.google.com/github/worklifesg/Computer-Vision-Algorithms-and-Projects/blob/main/6-Fine-tuning%20ResNet%20with%20Keras%2C%20TensorFlow%2C%20and%20Deep%20Learning/fine_tuning_ResNet50_application.ipynb\" target=\"_parent\"><img src=\"https://colab.research.google.com/assets/colab-badge.svg\" alt=\"Open In Colab\"/></a>"
      ]
    },
    {
      "cell_type": "markdown",
      "metadata": {
        "id": "uExkIpUz7Ms1"
      },
      "source": [
        "<h2 align='center'> Image Classification of Camouflage Clothes vs Normal Clothes using Fine-tuned ResNet50 </h2>\r\n",
        "\r\n",
        "<b> Dataset: </b>\r\n",
        "\r\n",
        "  * Around 8000 images of both camouflage and normal clothes\r\n",
        "  * Need to split data into train/test/validation dataset\r\n",
        "\r\n",
        "#### 1. Import Libraries"
      ]
    },
    {
      "cell_type": "code",
      "metadata": {
        "id": "8d741nESqmHu"
      },
      "source": [
        "import os\r\n",
        "from imutils import paths\r\n",
        "import random\r\n",
        "import shutil\r\n",
        "\r\n",
        "import numpy as np\r\n",
        "import matplotlib.pyplot as plt\r\n",
        "\r\n",
        "from tensorflow.keras.preprocessing.image import ImageDataGenerator\r\n",
        "from tensorflow.keras.layers import AveragePooling2D,Dropout,Dense,Flatten,Input\r\n",
        "from tensorflow.keras.models import Model\r\n",
        "\r\n",
        "from tensorflow.keras.optimizers import Adam\r\n",
        "from tensorflow.keras.applications import ResNet50\r\n",
        "\r\n",
        "from sklearn.metrics import classification_report\r\n"
      ],
      "execution_count": 1,
      "outputs": []
    },
    {
      "cell_type": "markdown",
      "metadata": {
        "id": "ruZrmdGh9oRE"
      },
      "source": [
        "#### 2. Configure dataset paths and training/testing/validation dataset"
      ]
    },
    {
      "cell_type": "code",
      "metadata": {
        "id": "V_Z8Are49nZT"
      },
      "source": [
        "#dataset path on google drive\r\n",
        "dataset_path = '/content/drive/MyDrive/pyImageSearch/Datasets/archive/8k_normal_vs_camouflage_clothes_images' \r\n",
        "\r\n",
        "#dataset seggregation path\r\n",
        "base_path = '/content/drive/MyDrive/pyImageSearch/Camouflage_or_NOT'\r\n",
        "\r\n",
        "#defining the train, test, and validation dataset path (all folders are already created in the base_path before in hand)\r\n",
        "train_path = os.path.sep.join([base_path,'training'])\r\n",
        "test_path = os.path.sep.join([base_path,'testing'])\r\n",
        "valid_path = os.path.sep.join([base_path,'validation'])\r\n",
        "\r\n",
        "#defining the training split ratio of 75%\r\n",
        "train_split = 0.75\r\n",
        "#validation split 10%\r\n",
        "val_split = 0.1\r\n",
        "\r\n",
        "#there are only classes - camouflage and normal clothes\r\n",
        "classes = ['Camouflage_Clothes','Normal_Clothes']\r\n",
        "\r\n",
        "#intializing parameters for training\r\n",
        "init_learning_rate = 1e-4\r\n",
        "batch_size=32\r\n",
        "num_epochs = 20\r\n",
        "\r\n",
        "model_path = 'detect_cam_clothes.model' #defining the model name to save later for predictitons"
      ],
      "execution_count": 2,
      "outputs": []
    },
    {
      "cell_type": "markdown",
      "metadata": {
        "id": "SnSTZN1D_ked"
      },
      "source": [
        "#### 3. Building Dataset (Train/Test/Validation)"
      ]
    },
    {
      "cell_type": "code",
      "metadata": {
        "id": "EptkkzNV-Z3J"
      },
      "source": [
        "#reading the original Image paths ans shuffling them\r\n",
        "imagePaths = list(paths.list_images(dataset_path))\r\n",
        "random.seed(42)\r\n",
        "random.shuffle(imagePaths)\r\n",
        "\r\n",
        "#configuring training and testing images\r\n",
        "i = int(len(imagePaths)*train_split)\r\n",
        "trainPaths = imagePaths[:i] #first random 75% images\r\n",
        "testPaths = imagePaths[i:] #rest of images left\r\n",
        "\r\n",
        "#configuring validation dataset from training image dataset (from that 75 %)\r\n",
        "k = int(len(trainPaths)*val_split)\r\n",
        "valPaths = trainPaths[:k]\r\n",
        "trainPaths = trainPaths[k:]\r\n",
        "\r\n",
        "### Now we have 65% training, 25% testing and 10% validation dataset\r\n",
        "# assiging the images to their respective paths\r\n",
        "\r\n",
        "datasets = [\r\n",
        "            ('training',trainPaths, train_path),\r\n",
        "            ('testing',testPaths,test_path),\r\n",
        "            ('validation',valPaths,valid_path)\r\n",
        "]"
      ],
      "execution_count": 3,
      "outputs": []
    },
    {
      "cell_type": "code",
      "metadata": {
        "colab": {
          "base_uri": "https://localhost:8080/"
        },
        "id": "ecZotCnvBbv2",
        "outputId": "19fcc729-daa4-40eb-8ad8-00bbe4ae17df"
      },
      "source": [
        "###### Using the loop over datasets to extract filename and labels and copy the images to their path\r\n",
        "\r\n",
        "for (dType,imagePaths,baseOutput) in datasets:\r\n",
        "  #dType - data split we are creating\r\n",
        "  #imagePaths = input image base directory\r\n",
        "  #baseOutput = if directory is not created, we need to create it as well.\r\n",
        "\r\n",
        "  print(\"Building '{}' split\".format(dType))\r\n",
        "\r\n",
        "  if not os.path.exists(baseOutput):\r\n",
        "    print(\"Creating '{}' directory\".format(baseOutput))\r\n",
        "    os.makedirs(baseOutput)\r\n",
        "  \r\n",
        "  for inputPath in imagePaths:\r\n",
        "    filename = inputPath.split(os.path.sep)[-1] #extract filename\r\n",
        "    label = inputPath.split(os.path.sep)[-2] #extract label\r\n",
        "\r\n",
        "    labelPath = os.path.sep.join([baseOutput,label]) #build the path\r\n",
        "\r\n",
        "    if not os.path.exists(labelPath):\r\n",
        "      print(\"Creating '{}' directory\".format(labelPath))\r\n",
        "      os.makedirs(labelPath)\r\n",
        "    \r\n",
        "    #constructing the path for destination image and then copy images\r\n",
        "\r\n",
        "    p = os.path.sep.join([labelPath, filename])\r\n",
        "    shutil.copy2(inputPath,p)"
      ],
      "execution_count": 4,
      "outputs": [
        {
          "output_type": "stream",
          "text": [
            "Building 'training' split\n",
            "Creating '/content/drive/MyDrive/pyImageSearch/Camouflage_or_NOT/training/camouflage_clothes' directory\n",
            "Creating '/content/drive/MyDrive/pyImageSearch/Camouflage_or_NOT/training/normal_clothes' directory\n",
            "Building 'testing' split\n",
            "Creating '/content/drive/MyDrive/pyImageSearch/Camouflage_or_NOT/testing/camouflage_clothes' directory\n",
            "Creating '/content/drive/MyDrive/pyImageSearch/Camouflage_or_NOT/testing/normal_clothes' directory\n",
            "Building 'validation' split\n",
            "Creating '/content/drive/MyDrive/pyImageSearch/Camouflage_or_NOT/validation/normal_clothes' directory\n",
            "Creating '/content/drive/MyDrive/pyImageSearch/Camouflage_or_NOT/validation/camouflage_clothes' directory\n"
          ],
          "name": "stdout"
        }
      ]
    },
    {
      "cell_type": "markdown",
      "metadata": {
        "id": "Aj4RrsRWGTKg"
      },
      "source": [
        "#### 4. Training Dataset using fine-tuned ResNet50"
      ]
    },
    {
      "cell_type": "code",
      "metadata": {
        "colab": {
          "base_uri": "https://localhost:8080/"
        },
        "id": "4psOOWwyEjGd",
        "outputId": "b335ff42-8515-426f-ca30-51f2132190d4"
      },
      "source": [
        "#total number of training, testing and validation files\r\n",
        "\r\n",
        "totalTrain = len(list(paths.list_images(train_path)))\r\n",
        "totalTest = len(list(paths.list_images(test_path)))\r\n",
        "totalValid = len(list(paths.list_images(valid_path)))\r\n",
        "\r\n",
        "print('Training: ', totalTrain)\r\n",
        "print('Testing: ', totalTest)\r\n",
        "print('Validation: ',totalValid)"
      ],
      "execution_count": 5,
      "outputs": [
        {
          "output_type": "stream",
          "text": [
            "Training:  10731\n",
            "Testing:  3975\n",
            "Validation:  1192\n"
          ],
          "name": "stdout"
        }
      ]
    },
    {
      "cell_type": "code",
      "metadata": {
        "id": "wmTYe-yfHMwK"
      },
      "source": [
        "#intializing training image augmentation\r\n",
        "'''\r\n",
        "Data augmentation allows for training time mutations of our images including random rotations, \r\n",
        "zooms, shifts, shears, flips, and mean subtraction.\r\n",
        "'''\r\n",
        "train_aug = ImageDataGenerator(\r\n",
        "    rotation_range = 25,\r\n",
        "    zoom_range =0.1,\r\n",
        "    width_shift_range=0.1,\r\n",
        "    height_shift_range=0.1,\r\n",
        "    shear_range=0.2,\r\n",
        "    horizontal_flip=True,\r\n",
        "    fill_mode='nearest'\r\n",
        ")\r\n",
        "\r\n",
        "#for testing/validation augmentation\r\n",
        "val_aug = ImageDataGenerator()\r\n",
        "\r\n",
        "### For ImageNet neam subtration in RGB order for each of the image augmentation object\r\n",
        "\r\n",
        "mean=np.array([123.68,116.779,103.939],dtype='float32')\r\n",
        "train_aug.mean=mean\r\n",
        "val_aug.mean=mean"
      ],
      "execution_count": 7,
      "outputs": []
    },
    {
      "cell_type": "code",
      "metadata": {
        "colab": {
          "base_uri": "https://localhost:8080/"
        },
        "id": "8rA2SyntIWQS",
        "outputId": "20bdfcd2-11d0-4b36-bc1a-6e3337bd4134"
      },
      "source": [
        "###### GENERATORS for DATASETS ########\r\n",
        "\r\n",
        "train_gen = train_aug.flow_from_directory(\r\n",
        "    train_path,class_mode='categorical',target_size=(224,224),\r\n",
        "    color_mode='rgb',shuffle=True,batch_size=batch_size)\r\n",
        "\r\n",
        "test_gen = val_aug.flow_from_directory(\r\n",
        "    test_path,class_mode='categorical',target_size=(224,224),\r\n",
        "    color_mode='rgb',shuffle=False,batch_size=batch_size)\r\n",
        "\r\n",
        "val_gen = val_aug.flow_from_directory(\r\n",
        "    valid_path,class_mode='categorical',target_size=(224,224),\r\n",
        "    color_mode='rgb',shuffle=False,batch_size=batch_size)"
      ],
      "execution_count": 8,
      "outputs": [
        {
          "output_type": "stream",
          "text": [
            "Found 10731 images belonging to 2 classes.\n",
            "Found 3975 images belonging to 2 classes.\n",
            "Found 1192 images belonging to 2 classes.\n"
          ],
          "name": "stdout"
        }
      ]
    },
    {
      "cell_type": "code",
      "metadata": {
        "id": "W0t4Bmp1JBIz"
      },
      "source": [
        "##### Creating Fine-Tuned ResNet50 deep learning architecture #####\r\n",
        "\r\n",
        "base_model = ResNet50(weights='imagenet',include_top=False,input_tensor=Input(shape=(224,224,3)))\r\n",
        "\r\n",
        "new_head_model = base_model.output\r\n",
        "new_head_model = AveragePooling2D(pool_size=(7,7))(new_head_model)\r\n",
        "new_head_model = Flatten()(new_head_model)\r\n",
        "new_head_model = Dense(256,activation='relu')(new_head_model)\r\n",
        "new_head_model = Dropout(0.5)(new_head_model)\r\n",
        "new_head_model = Dense(len(classes),activation='softmax')(new_head_model)\r\n",
        "\r\n",
        "model = Model(inputs=base_model.input,outputs=new_head_model)\r\n",
        "\r\n",
        "#We want to train (fine-tune) only head of the network and make sure the weigths of the base of CNN are FROZEN\r\n",
        "#Fine tuning means performing network surgery so that we can froze the as input weigths and train the new head and then unfroze it to train it fully.\r\n",
        "\r\n",
        "for layer in base_model.layers:\r\n",
        "  layer.trainable = False\r\n",
        "\r\n",
        "#intializing optimizer and compiling it\r\n",
        "\r\n",
        "opt = Adam(lr=init_learning_rate,decay=init_learning_rate/num_epochs)\r\n",
        "model.compile(loss='binary_crossentropy',optimizer=opt,metrics=['accuracy'])"
      ],
      "execution_count": 11,
      "outputs": []
    },
    {
      "cell_type": "code",
      "metadata": {
        "colab": {
          "base_uri": "https://localhost:8080/"
        },
        "id": "gxqSkB9tLIea",
        "outputId": "27b0c986-89c6-4dfb-ac41-a24a24d8670f"
      },
      "source": [
        "###### training the network\r\n",
        "\r\n",
        "H = model.fit_generator(\r\n",
        "    train_gen,\r\n",
        "    steps_per_epoch=totalTrain // batch_size,\r\n",
        "    validation_data=val_gen,\r\n",
        "    validation_steps=totalValid // batch_size,\r\n",
        "    epochs=num_epochs\r\n",
        ")"
      ],
      "execution_count": 12,
      "outputs": [
        {
          "output_type": "stream",
          "text": [
            "/usr/local/lib/python3.6/dist-packages/tensorflow/python/keras/engine/training.py:1844: UserWarning: `Model.fit_generator` is deprecated and will be removed in a future version. Please use `Model.fit`, which supports generators.\n",
            "  warnings.warn('`Model.fit_generator` is deprecated and '\n"
          ],
          "name": "stderr"
        },
        {
          "output_type": "stream",
          "text": [
            "Epoch 1/20\n",
            "335/335 [==============================] - 322s 942ms/step - loss: 0.3269 - accuracy: 0.8634 - val_loss: 0.0672 - val_accuracy: 0.9797\n",
            "Epoch 2/20\n",
            "335/335 [==============================] - 311s 927ms/step - loss: 0.0994 - accuracy: 0.9632 - val_loss: 0.0523 - val_accuracy: 0.9840\n",
            "Epoch 3/20\n",
            "335/335 [==============================] - 307s 918ms/step - loss: 0.0735 - accuracy: 0.9764 - val_loss: 0.0459 - val_accuracy: 0.9823\n",
            "Epoch 4/20\n",
            "335/335 [==============================] - 308s 921ms/step - loss: 0.0700 - accuracy: 0.9750 - val_loss: 0.0445 - val_accuracy: 0.9848\n",
            "Epoch 5/20\n",
            "335/335 [==============================] - 307s 915ms/step - loss: 0.0596 - accuracy: 0.9811 - val_loss: 0.0392 - val_accuracy: 0.9873\n",
            "Epoch 6/20\n",
            "335/335 [==============================] - 305s 911ms/step - loss: 0.0469 - accuracy: 0.9857 - val_loss: 0.0415 - val_accuracy: 0.9848\n",
            "Epoch 7/20\n",
            "335/335 [==============================] - 309s 921ms/step - loss: 0.0463 - accuracy: 0.9857 - val_loss: 0.0363 - val_accuracy: 0.9865\n",
            "Epoch 8/20\n",
            "335/335 [==============================] - 306s 911ms/step - loss: 0.0499 - accuracy: 0.9838 - val_loss: 0.0383 - val_accuracy: 0.9848\n",
            "Epoch 9/20\n",
            "335/335 [==============================] - 307s 916ms/step - loss: 0.0434 - accuracy: 0.9853 - val_loss: 0.0345 - val_accuracy: 0.9907\n",
            "Epoch 10/20\n",
            "335/335 [==============================] - 309s 922ms/step - loss: 0.0424 - accuracy: 0.9857 - val_loss: 0.0327 - val_accuracy: 0.9882\n",
            "Epoch 11/20\n",
            "335/335 [==============================] - 306s 913ms/step - loss: 0.0364 - accuracy: 0.9867 - val_loss: 0.0321 - val_accuracy: 0.9907\n",
            "Epoch 12/20\n",
            "335/335 [==============================] - 305s 911ms/step - loss: 0.0388 - accuracy: 0.9865 - val_loss: 0.0318 - val_accuracy: 0.9924\n",
            "Epoch 13/20\n",
            "335/335 [==============================] - 305s 909ms/step - loss: 0.0315 - accuracy: 0.9898 - val_loss: 0.0388 - val_accuracy: 0.9856\n",
            "Epoch 14/20\n",
            "335/335 [==============================] - 307s 916ms/step - loss: 0.0280 - accuracy: 0.9906 - val_loss: 0.0353 - val_accuracy: 0.9873\n",
            "Epoch 15/20\n",
            "335/335 [==============================] - 309s 922ms/step - loss: 0.0364 - accuracy: 0.9889 - val_loss: 0.0319 - val_accuracy: 0.9873\n",
            "Epoch 16/20\n",
            "335/335 [==============================] - 309s 922ms/step - loss: 0.0293 - accuracy: 0.9890 - val_loss: 0.0353 - val_accuracy: 0.9907\n",
            "Epoch 17/20\n",
            "335/335 [==============================] - 306s 914ms/step - loss: 0.0265 - accuracy: 0.9903 - val_loss: 0.0281 - val_accuracy: 0.9916\n",
            "Epoch 18/20\n",
            "335/335 [==============================] - 304s 908ms/step - loss: 0.0250 - accuracy: 0.9921 - val_loss: 0.0325 - val_accuracy: 0.9907\n",
            "Epoch 19/20\n",
            "335/335 [==============================] - 305s 911ms/step - loss: 0.0263 - accuracy: 0.9910 - val_loss: 0.0280 - val_accuracy: 0.9890\n",
            "Epoch 20/20\n",
            "335/335 [==============================] - 307s 916ms/step - loss: 0.0247 - accuracy: 0.9915 - val_loss: 0.0284 - val_accuracy: 0.9907\n"
          ],
          "name": "stdout"
        }
      ]
    },
    {
      "cell_type": "markdown",
      "metadata": {
        "id": "IuqeiT5UL4q9"
      },
      "source": [
        "#### 5. Making Predictions"
      ]
    },
    {
      "cell_type": "code",
      "metadata": {
        "colab": {
          "base_uri": "https://localhost:8080/"
        },
        "id": "b5FaelFjLvOo",
        "outputId": "74681b4c-5401-4438-d1e6-a4ee91aeeba8"
      },
      "source": [
        "test_gen.reset() #resetting the testing generator to make sure nothing is predicted on it before\r\n",
        "\r\n",
        "predIdxs = model.predict_generator(test_gen,steps=(totalTest//batch_size)+1) #making predictions\r\n",
        "\r\n",
        "#find the index of the label with corresponding largest predictibility\r\n",
        "\r\n",
        "predIdxs = np.argmax(predIdxs,axis=1)\r\n",
        "\r\n",
        "print(classification_report(test_gen.classes,predIdxs,\r\n",
        "                            target_names=test_gen.class_indices.keys()))"
      ],
      "execution_count": 13,
      "outputs": [
        {
          "output_type": "stream",
          "text": [
            "/usr/local/lib/python3.6/dist-packages/tensorflow/python/keras/engine/training.py:1905: UserWarning: `Model.predict_generator` is deprecated and will be removed in a future version. Please use `Model.predict`, which supports generators.\n",
            "  warnings.warn('`Model.predict_generator` is deprecated and '\n"
          ],
          "name": "stderr"
        },
        {
          "output_type": "stream",
          "text": [
            "                    precision    recall  f1-score   support\n",
            "\n",
            "camouflage_clothes       0.99      0.98      0.99      1968\n",
            "    normal_clothes       0.98      0.99      0.99      2007\n",
            "\n",
            "          accuracy                           0.99      3975\n",
            "         macro avg       0.99      0.99      0.99      3975\n",
            "      weighted avg       0.99      0.99      0.99      3975\n",
            "\n"
          ],
          "name": "stdout"
        }
      ]
    },
    {
      "cell_type": "code",
      "metadata": {
        "id": "1GuZW349OcY7"
      },
      "source": [
        "#saving the model.h5 file\r\n",
        "\r\n",
        "model.save(model_path,save_format='h5')"
      ],
      "execution_count": 14,
      "outputs": []
    },
    {
      "cell_type": "code",
      "metadata": {
        "colab": {
          "base_uri": "https://localhost:8080/",
          "height": 299
        },
        "id": "pDspFPgcOlcZ",
        "outputId": "fdb9ab1d-cd5b-43cc-cc2d-e71000233017"
      },
      "source": [
        "############### Plot training loss accuracy and accuracy on dataset\r\n",
        "N = num_epochs\r\n",
        "\r\n",
        "plt.style.use(\"ggplot\")\r\n",
        "plt.figure()\r\n",
        "plt.plot(np.arange(0, N), H.history[\"loss\"], label=\"train_loss\")\r\n",
        "plt.plot(np.arange(0, N), H.history[\"val_loss\"], label=\"val_loss\")\r\n",
        "plt.plot(np.arange(0, N), H.history[\"accuracy\"], label=\"train_acc\")\r\n",
        "plt.plot(np.arange(0, N), H.history[\"val_accuracy\"], label=\"val_acc\")\r\n",
        "\r\n",
        "plt.title(\"Training Loss and Accuracy on Dataset\")\r\n",
        "plt.xlabel(\"Epoch #\")\r\n",
        "plt.ylabel(\"Loss/Accuracy\")\r\n",
        "\r\n",
        "plt.legend(loc=\"lower left\")\r\n",
        "plt.savefig('plot.png')"
      ],
      "execution_count": 15,
      "outputs": [
        {
          "output_type": "display_data",
          "data": {
            "image/png": "[encoded data removed]",
            "text/plain": [
              "<Figure size 432x288 with 1 Axes>"
            ]
          },
          "metadata": {
            "tags": []
          }
        }
      ]
    }
  ]
}